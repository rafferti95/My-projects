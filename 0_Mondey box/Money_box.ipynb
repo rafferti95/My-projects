{
 "cells": [
  {
   "cell_type": "code",
   "execution_count": 4,
   "metadata": {},
   "outputs": [],
   "source": [
    "import numpy as np"
   ]
  },
  {
   "cell_type": "code",
   "execution_count": 5,
   "metadata": {},
   "outputs": [],
   "source": [
    "money = list(np.linspace(20, 2000, 100, dtype = np.int16))\n",
    "day = 0\n",
    "cash = 0"
   ]
  },
  {
   "cell_type": "code",
   "execution_count": 7,
   "metadata": {},
   "outputs": [],
   "source": [
    "list_day = money\n",
    "\n",
    "def money_box():\n",
    "    if len(list_day) > 0:\n",
    "\n",
    "        global day\n",
    "        global cash\n",
    "\n",
    "        day += 1\n",
    "        pay_day = np.random.randint(0, len(list_day))\n",
    "        pay = list_day.pop(pay_day)\n",
    "        cash += pay\n",
    "\n",
    "        print(f'Сегодня день {day}')\n",
    "        print(f'Положи в копилку {pay} рублей')\n",
    "        print(f'Наколплено: {cash} рублей или {round((cash/1010), 1)}%')\n",
    "    else:\n",
    "        print(f'Колпилка заполнена! Ты накопил {cash} рублей за {day} дней')\n",
    "    "
   ]
  },
  {
   "cell_type": "code",
   "execution_count": 108,
   "metadata": {},
   "outputs": [
    {
     "name": "stdout",
     "output_type": "stream",
     "text": [
      "Колпилка заполнена! Ты накопил 101000 рублей за 100 дней\n"
     ]
    }
   ],
   "source": [
    "money_box()"
   ]
  }
 ],
 "metadata": {
  "kernelspec": {
   "display_name": "Python 3",
   "language": "python",
   "name": "python3"
  },
  "language_info": {
   "codemirror_mode": {
    "name": "ipython",
    "version": 3
   },
   "file_extension": ".py",
   "mimetype": "text/x-python",
   "name": "python",
   "nbconvert_exporter": "python",
   "pygments_lexer": "ipython3",
   "version": "3.9.10 (tags/v3.9.10:f2f3f53, Jan 17 2022, 15:14:21) [MSC v.1929 64 bit (AMD64)]"
  },
  "orig_nbformat": 4,
  "vscode": {
   "interpreter": {
    "hash": "f43c0350f7ba3512a4b792c13dac530856294ad0ad5f72400cfe467d628c3673"
   }
  }
 },
 "nbformat": 4,
 "nbformat_minor": 2
}
