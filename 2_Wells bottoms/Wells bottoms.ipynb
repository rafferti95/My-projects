{
 "cells": [
  {
   "cell_type": "code",
   "execution_count": null,
   "metadata": {},
   "outputs": [],
   "source": [
    "import pandas as pd\n",
    "\n",
    "data_set = pd.read_excel('data/wells.xlsx')\n",
    "group_data = data_set.groupby('Name', as_index = False)[['Name', 'X', 'Y', 'Z']].tail(1)\n",
    "group_data.to_excel('Data/Забой_Скважин.xlsx', index = False)"
   ]
  }
 ],
 "metadata": {
  "kernelspec": {
   "display_name": "Python 3",
   "language": "python",
   "name": "python3"
  },
  "language_info": {
   "name": "python",
   "version": "3.9.10 (tags/v3.9.10:f2f3f53, Jan 17 2022, 15:14:21) [MSC v.1929 64 bit (AMD64)]"
  },
  "orig_nbformat": 4,
  "vscode": {
   "interpreter": {
    "hash": "f43c0350f7ba3512a4b792c13dac530856294ad0ad5f72400cfe467d628c3673"
   }
  }
 },
 "nbformat": 4,
 "nbformat_minor": 2
}
