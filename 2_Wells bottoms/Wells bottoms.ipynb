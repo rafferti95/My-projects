{
 "cells": [
  {
   "cell_type": "code",
   "execution_count": null,
   "metadata": {},
   "outputs": [],
   "source": [
    "import pandas as pd\n",
    "\n",
    "data_set = pd.read_excel('data/wells.xlsx')\n",
    "group_data = data_set.groupby('Name', as_index = False)[['Name', 'X', 'Y', 'Z']].tail(1)\n",
    "group_data.to_excel('Data/Забой_Скважин.xlsx', index = False)"
   ]
  }
 ],
 "metadata": {
  "language_info": {
   "name": "python"
  },
  "orig_nbformat": 4
 },
 "nbformat": 4,
 "nbformat_minor": 2
}
