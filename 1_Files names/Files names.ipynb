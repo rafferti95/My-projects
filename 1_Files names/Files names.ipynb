{
 "cells": [
  {
   "cell_type": "code",
   "execution_count": null,
   "metadata": {},
   "outputs": [],
   "source": [
    "import pandas as pd\n",
    "\n",
    "files_names = os.listdir('RIGIS')\n",
    "files_names = pd.DataFrame(files_names)\n",
    "files_names = files_names.rename(columns = {0 : 'Имя'})\n",
    "files_names['Формат'] = files_names['Имя'].apply(lambda x: x[-3:])\n",
    "files_names['Имя'] = files_names['Имя'].apply(lambda x: x[:-4])\n",
    "\n",
    "files_names.to_excel('Excel/Files_names.xlsx')"
   ]
  }
 ],
 "metadata": {
  "language_info": {
   "name": "python"
  },
  "orig_nbformat": 4
 },
 "nbformat": 4,
 "nbformat_minor": 2
}
