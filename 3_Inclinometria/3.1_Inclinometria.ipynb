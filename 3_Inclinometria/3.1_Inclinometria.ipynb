{
 "cells": [
  {
   "cell_type": "markdown",
   "metadata": {},
   "source": [
    "### <center> Импорт необходимых библиотек </center>"
   ]
  },
  {
   "cell_type": "code",
   "execution_count": 108,
   "metadata": {},
   "outputs": [],
   "source": [
    "import time \n",
    "start = time.time()\n",
    "import pandas as pd"
   ]
  },
  {
   "cell_type": "markdown",
   "metadata": {},
   "source": [
    "### <center> Создание шаблона, к которому будут добавляться траектории скважин </center>"
   ]
  },
  {
   "cell_type": "code",
   "execution_count": 109,
   "metadata": {},
   "outputs": [
    {
     "data": {
      "text/html": [
       "<div>\n",
       "<style scoped>\n",
       "    .dataframe tbody tr th:only-of-type {\n",
       "        vertical-align: middle;\n",
       "    }\n",
       "\n",
       "    .dataframe tbody tr th {\n",
       "        vertical-align: top;\n",
       "    }\n",
       "\n",
       "    .dataframe thead th {\n",
       "        text-align: right;\n",
       "    }\n",
       "</style>\n",
       "<table border=\"1\" class=\"dataframe\">\n",
       "  <thead>\n",
       "    <tr style=\"text-align: right;\">\n",
       "      <th></th>\n",
       "      <th>Name</th>\n",
       "      <th>MD</th>\n",
       "      <th>X</th>\n",
       "      <th>Y</th>\n",
       "      <th>Z</th>\n",
       "      <th>TVD</th>\n",
       "      <th>DX</th>\n",
       "      <th>DY</th>\n",
       "      <th>AZIM</th>\n",
       "      <th>INCL</th>\n",
       "      <th>DLS</th>\n",
       "    </tr>\n",
       "  </thead>\n",
       "  <tbody>\n",
       "  </tbody>\n",
       "</table>\n",
       "</div>"
      ],
      "text/plain": [
       "Empty DataFrame\n",
       "Columns: [Name, MD, X, Y, Z, TVD, DX, DY, AZIM, INCL, DLS]\n",
       "Index: []"
      ]
     },
     "metadata": {},
     "output_type": "display_data"
    }
   ],
   "source": [
    "incl_for_imap = pd.DataFrame(\n",
    "    {\n",
    "        'Name' : [],\n",
    "        'MD' : [],\n",
    "        'X' : [],\n",
    "        'Y' : [],\n",
    "        'Z' : [],\n",
    "        'TVD' : [],\n",
    "        'DX' : [],\n",
    "        'DY' : [],\n",
    "        'AZIM' : [],\n",
    "        'INCL' : [],\n",
    "        'DLS' : []\n",
    "    }\n",
    ")\n",
    "\n",
    "display(incl_for_imap)"
   ]
  },
  {
   "cell_type": "markdown",
   "metadata": {},
   "source": [
    "### <center> Получение списка файлов </center>"
   ]
  },
  {
   "cell_type": "code",
   "execution_count": 110,
   "metadata": {},
   "outputs": [
    {
     "name": "stdout",
     "output_type": "stream",
     "text": [
      "Файлов в папке: 257\n"
     ]
    }
   ],
   "source": [
    "file_name = os.listdir('Incl_new')\n",
    "print(f'Файлов в папке: {len(file_name)}')"
   ]
  },
  {
   "cell_type": "markdown",
   "metadata": {},
   "source": [
    "### <center> Преобразование тектовых файлов в таблицы Excel </center>"
   ]
  },
  {
   "cell_type": "code",
   "execution_count": 111,
   "metadata": {},
   "outputs": [
    {
     "name": "stdout",
     "output_type": "stream",
     "text": [
      "Файлов в папке: 257\n"
     ]
    }
   ],
   "source": [
    "count = 0\n",
    "\n",
    "for name in file_name:\n",
    "   \n",
    "    well_name = name[:-4]\n",
    "    \n",
    "    incl = pd.read_csv(f'Incl_new/{name}', on_bad_lines = 'skip', sep = ' ', skiprows = 15)\n",
    "    incl = pd.DataFrame(incl)\n",
    "    incl.to_excel(f'Incl_new_excel/{well_name}.xlsx')\n",
    "    \n",
    "    count += 1\n",
    "    print(f'Файлов в папке: {count}', end = '\\r')\n",
    "    \n",
    "file_name_excel = os.listdir('Incl_new_excel')\n",
    "print(f'Файлов в папке: {len(file_name_excel)}')"
   ]
  },
  {
   "cell_type": "markdown",
   "metadata": {},
   "source": [
    "### <center> Обработка таблиц, объединение их в один файл и выгрузка в формате Excel </center>"
   ]
  },
  {
   "cell_type": "code",
   "execution_count": 112,
   "metadata": {},
   "outputs": [
    {
     "name": "stdout",
     "output_type": "stream",
     "text": [
      "Программа успешно завершена! Время выполнения программы: 78.6 секунд.\n"
     ]
    }
   ],
   "source": [
    "for name in file_name_excel:    \n",
    "    well_name = name[:-5]\n",
    "    \n",
    "    incl = pd.read_excel(f'Incl_new_excel/{name}')\n",
    "    incl = pd.DataFrame(incl)\n",
    "    \n",
    "    incl = incl.rename(columns = {\n",
    "        incl.columns[0] : 'Name',\n",
    "        incl.columns[1] : 'MD',\n",
    "        incl.columns[2] : 'X',\n",
    "        incl.columns[3] : 'Y',\n",
    "        incl.columns[4] : 'Z',\n",
    "        incl.columns[5] : 'TVD',\n",
    "        incl.columns[6] : 'DX',\n",
    "        incl.columns[7] : 'DY',\n",
    "        incl.columns[8] : 'AZIM',\n",
    "        incl.columns[9] : 'INCL',\n",
    "        incl.columns[10] : 'DLS'    \n",
    "    })\n",
    "    \n",
    "    incl['Name'] = well_name\n",
    "    \n",
    "    incl_for_imap = pd.concat([incl_for_imap, incl])\n",
    "    \n",
    "    print(f'Обработка скважины: {well_name}', end = '\\r')\n",
    "    \n",
    "incl_for_imap.drop(incl_for_imap.columns.difference(['Name', 'MD', 'X', 'Y', 'Z', 'TVD', 'DX', 'DY', 'AZIM', 'INCL', 'DLS']), axis = 1, inplace = True)\n",
    "   \n",
    "incl_for_imap.to_excel('Incl for iMAP/Incl for iMap.xlsx', index = False)\n",
    "incl_for_imap.to_csv('Incl for iMAP/Incl for iMap.csv', sep = ' ', index = False)\n",
    "\n",
    "end = time.time()\n",
    "\n",
    "print(f'Программа успешно завершена! Время выполнения программы: {round(end - start, 1)} секунд.')"
   ]
  }
 ],
 "metadata": {
  "interpreter": {
   "hash": "66c4914fc982baac40e855625584830bb8794d8992b10cc322ff39fb19052d4f"
  },
  "kernelspec": {
   "display_name": "Python 3.10.4 64-bit",
   "language": "python",
   "name": "python3"
  },
  "language_info": {
   "codemirror_mode": {
    "name": "ipython",
    "version": 3
   },
   "file_extension": ".py",
   "mimetype": "text/x-python",
   "name": "python",
   "nbconvert_exporter": "python",
   "pygments_lexer": "ipython3",
   "version": "3.10.4"
  },
  "orig_nbformat": 4
 },
 "nbformat": 4,
 "nbformat_minor": 2
}
